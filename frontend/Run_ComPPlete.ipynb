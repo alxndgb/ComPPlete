{
 "cells": [
  {
   "cell_type": "code",
   "execution_count": 1,
   "id": "3a6663b2-3b82-4ea1-967a-67ab97ae4027",
   "metadata": {
    "tags": []
   },
   "outputs": [
    {
     "name": "stderr",
     "output_type": "stream",
     "text": [
      "/opt/scp/.dev/tf/lib/python3.9/site-packages/pandas/core/arrays/masked.py:60: UserWarning: Pandas requires version '1.3.6' or newer of 'bottleneck' (version '1.3.5' currently installed).\n",
      "  from pandas.core import (\n"
     ]
    }
   ],
   "source": [
    "import numpy as np \n",
    "from keras.models import Sequential\n",
    "from keras.layers import Dense\n",
    "import pandas as pd\n",
    "import numpy as np\n",
    "import networkx as nx\n",
    "import matplotlib.pyplot as plt\n",
    "from tqdm import tqdm\n",
    "import sys\n",
    "import random\n",
    "from sklearn.metrics import roc_curve, roc_auc_score, precision_recall_curve, average_precision_score\n",
    "from keras.models import load_model\n",
    "from tensorflow.keras.layers import Input, Dense, Activation, Dropout, Conv1D, Flatten, MaxPooling1D,\\\n",
    "                        AveragePooling1D, Concatenate, LeakyReLU, Embedding,\\\n",
    "                        GlobalMaxPooling1D,GlobalAveragePooling1D,GaussianNoise,BatchNormalization,Add,Layer, Lambda\n",
    "from tensorflow.keras.initializers import glorot_uniform\n",
    "from keras.callbacks import EarlyStopping\n",
    "from tensorflow.keras.models import load_model\n",
    "from tensorflow.keras.models import Sequential, Model\n",
    "from tensorflow.keras.layers import Input, Dense, Activation, Dropout, Conv1D, Flatten, MaxPooling1D,\\\n",
    "                        AveragePooling1D, Concatenate, LeakyReLU, Embedding,\\\n",
    "                        GlobalMaxPooling1D,GlobalAveragePooling1D,GaussianNoise,BatchNormalization,Add,Layer, Lambda\n",
    "from tensorflow.keras.initializers import glorot_uniform\n",
    "from tensorflow.keras.optimizers import Adam\n",
    "import tensorflow as tf\n",
    "import subprocess\n",
    "import os\n",
    "from sklearn.utils import column_or_1d\n",
    "from sklearn.utils.multiclass import type_of_target\n",
    "import gc\n",
    "import torch\n",
    "from numba import cuda \n",
    "from sklearn.utils import column_or_1d\n",
    "from sklearn.utils.multiclass import type_of_target\n",
    "import seaborn as sns\n",
    "from sklearn.metrics import f1_score\n",
    "import pickle\n",
    "from sklearn.datasets import make_classification\n",
    "from sklearn.linear_model import LogisticRegression\n",
    "from sklearn.model_selection import train_test_split\n",
    "from sklearn.metrics import roc_curve\n",
    "from sklearn.metrics import roc_auc_score\n",
    "from matplotlib import pyplot\n",
    "from sklearn.metrics import precision_score, recall_score, f1_score\n",
    "import importlib\n",
    "from matplotlib.pyplot import figure\n",
    "from scipy import stats\n",
    "from scipy.signal import find_peaks\n",
    "import seaborn as sns\n",
    "from matplotlib.patches import Patch"
   ]
  },
  {
   "cell_type": "markdown",
   "id": "c7b15892-f095-4ea4-8e41-2b422bee0ada",
   "metadata": {},
   "source": [
    "# Data Prep\n",
    "\n",
    "Run ComPPlete to study homodimers and heterodimers within 170 GPCR proteins. But, this code can be modified to run for any pair of proteins."
   ]
  },
  {
   "cell_type": "code",
   "execution_count": 2,
   "id": "288605be-1e85-4a30-b76c-ef5590195c21",
   "metadata": {
    "tags": []
   },
   "outputs": [
    {
     "data": {
      "text/html": [
       "<div>\n",
       "<style scoped>\n",
       "    .dataframe tbody tr th:only-of-type {\n",
       "        vertical-align: middle;\n",
       "    }\n",
       "\n",
       "    .dataframe tbody tr th {\n",
       "        vertical-align: top;\n",
       "    }\n",
       "\n",
       "    .dataframe thead th {\n",
       "        text-align: right;\n",
       "    }\n",
       "</style>\n",
       "<table border=\"1\" class=\"dataframe\">\n",
       "  <thead>\n",
       "    <tr style=\"text-align: right;\">\n",
       "      <th></th>\n",
       "      <th>symbol</th>\n",
       "      <th>prot_seq</th>\n",
       "    </tr>\n",
       "  </thead>\n",
       "  <tbody>\n",
       "    <tr>\n",
       "      <th>0</th>\n",
       "      <td>AGTR1</td>\n",
       "      <td>MILNSSTEDGIKRIQDDCPKAGRHNYIFVMIPTLYSIIFVVGIFGN...</td>\n",
       "    </tr>\n",
       "    <tr>\n",
       "      <th>1</th>\n",
       "      <td>AGTR2</td>\n",
       "      <td>MKGNSTLATTSKNITSGLHFGLVNISGNNESTLNCSQKPSDKHLDA...</td>\n",
       "    </tr>\n",
       "    <tr>\n",
       "      <th>2</th>\n",
       "      <td>APJ</td>\n",
       "      <td>MEEGGDFDNYYGADNQSECEYTDWKSSGALIPAIYMLVFLLGTTGN...</td>\n",
       "    </tr>\n",
       "    <tr>\n",
       "      <th>3</th>\n",
       "      <td>NMBR</td>\n",
       "      <td>MPSKSLSNLSVTTGANESGSVPEGWERDFLPASDGTTTELVIRCVI...</td>\n",
       "    </tr>\n",
       "    <tr>\n",
       "      <th>4</th>\n",
       "      <td>GRPR</td>\n",
       "      <td>MALNDCFLLNLEVDHFMHCNISSHSADLPVNDDWSHPGILYVIPAV...</td>\n",
       "    </tr>\n",
       "    <tr>\n",
       "      <th>...</th>\n",
       "      <td>...</td>\n",
       "      <td>...</td>\n",
       "    </tr>\n",
       "    <tr>\n",
       "      <th>165</th>\n",
       "      <td>OPN4</td>\n",
       "      <td>MNPPSGPRVPPSPTQEPSCMATPAPPSWWDSSQSSISSLGRLPSIS...</td>\n",
       "    </tr>\n",
       "    <tr>\n",
       "      <th>166</th>\n",
       "      <td>OPN5</td>\n",
       "      <td>MALNHTALPQDERLPHYLRDGDPFASKLSWEADLVAGFYLTIIGIL...</td>\n",
       "    </tr>\n",
       "    <tr>\n",
       "      <th>167</th>\n",
       "      <td>OPSB</td>\n",
       "      <td>MSEEEFYLFKNISSVGPWDGPQYHIAPVWAFYLQAAFMGTVFLIGF...</td>\n",
       "    </tr>\n",
       "    <tr>\n",
       "      <th>168</th>\n",
       "      <td>OPSG</td>\n",
       "      <td>MAQQWSLQRLAGRHPQDSYEDSTQSSIFTYTNSNSTRGPFEGPNYH...</td>\n",
       "    </tr>\n",
       "    <tr>\n",
       "      <th>169</th>\n",
       "      <td>OPSR</td>\n",
       "      <td>MAQQWSLQRLAGRHPQDSYEDSTQSSIFTYTNSNSTRGPFEGPNYH...</td>\n",
       "    </tr>\n",
       "  </tbody>\n",
       "</table>\n",
       "<p>170 rows × 2 columns</p>\n",
       "</div>"
      ],
      "text/plain": [
       "    symbol                                           prot_seq\n",
       "0    AGTR1  MILNSSTEDGIKRIQDDCPKAGRHNYIFVMIPTLYSIIFVVGIFGN...\n",
       "1    AGTR2  MKGNSTLATTSKNITSGLHFGLVNISGNNESTLNCSQKPSDKHLDA...\n",
       "2      APJ  MEEGGDFDNYYGADNQSECEYTDWKSSGALIPAIYMLVFLLGTTGN...\n",
       "3     NMBR  MPSKSLSNLSVTTGANESGSVPEGWERDFLPASDGTTTELVIRCVI...\n",
       "4     GRPR  MALNDCFLLNLEVDHFMHCNISSHSADLPVNDDWSHPGILYVIPAV...\n",
       "..     ...                                                ...\n",
       "165   OPN4  MNPPSGPRVPPSPTQEPSCMATPAPPSWWDSSQSSISSLGRLPSIS...\n",
       "166   OPN5  MALNHTALPQDERLPHYLRDGDPFASKLSWEADLVAGFYLTIIGIL...\n",
       "167   OPSB  MSEEEFYLFKNISSVGPWDGPQYHIAPVWAFYLQAAFMGTVFLIGF...\n",
       "168   OPSG  MAQQWSLQRLAGRHPQDSYEDSTQSSIFTYTNSNSTRGPFEGPNYH...\n",
       "169   OPSR  MAQQWSLQRLAGRHPQDSYEDSTQSSIFTYTNSNSTRGPFEGPNYH...\n",
       "\n",
       "[170 rows x 2 columns]"
      ]
     },
     "execution_count": 2,
     "metadata": {},
     "output_type": "execute_result"
    }
   ],
   "source": [
    "GPCR_data = pd.read_csv('GPCRs_seq.csv', index_col=0)\n",
    "GPCR_data"
   ]
  },
  {
   "cell_type": "code",
   "execution_count": 3,
   "id": "0fb7532d-faa0-44d2-a192-7f21f1389c35",
   "metadata": {
    "tags": []
   },
   "outputs": [],
   "source": [
    "protvec_model = pd.read_csv('protVec_100d_3grams.csv', delimiter = '\\t')\n",
    "\n",
    "protvec_trigram_dict = {}\n",
    "\n",
    "for idx, row in protvec_model.iterrows():\n",
    "    protvec_trigram_dict[row['words']] = protvec_model.iloc[idx, 1:].values.astype(np.float64)\n",
    "    \n",
    "trigram_list = set(protvec_trigram_dict.keys())\n",
    "\n",
    "def get_protvec(prot_seq):\n",
    "    n = 3\n",
    "    split_by_three = [prot_seq[i : i + n] for i in range(0, len(prot_seq), n)]\n",
    "\n",
    "    split_by_three\n",
    "\n",
    "    num_trigrams = len(split_by_three)\n",
    "\n",
    "    num_trigrams\n",
    "\n",
    "    target_embeddings = np.zeros(100) # 100 is protvec number of dimentions\n",
    "\n",
    "    for trigram in split_by_three: \n",
    "\n",
    "        if len(trigram) == 2: \n",
    "            trigram = \"X\" + trigram\n",
    "\n",
    "        elif len(trigram) == 1:\n",
    "            trigram = \"XX\" + trigram\n",
    "\n",
    "        if trigram in trigram_list:\n",
    "            target_embeddings = target_embeddings + protvec_trigram_dict[trigram]\n",
    "\n",
    "    return target_embeddings"
   ]
  },
  {
   "cell_type": "code",
   "execution_count": 4,
   "id": "7bcdb19f-39a0-4b28-b5ee-4925bbf39e2e",
   "metadata": {
    "tags": []
   },
   "outputs": [
    {
     "name": "stderr",
     "output_type": "stream",
     "text": [
      "170it [00:00, 4782.85it/s]\n"
     ]
    }
   ],
   "source": [
    "GPCR_dict = dict()\n",
    "for index, row in tqdm(GPCR_data.iterrows()):\n",
    "    GPCR_dict[row['symbol']] = dict()\n",
    "    GPCR_dict[row['symbol']]['aaseq'] = row['prot_seq']\n",
    "    GPCR_dict[row['symbol']]['protvec'] = get_protvec(row['prot_seq'])"
   ]
  },
  {
   "cell_type": "code",
   "execution_count": 5,
   "id": "24c536d5-5ff0-4c03-8ac2-a3b00fa87455",
   "metadata": {
    "tags": []
   },
   "outputs": [
    {
     "name": "stderr",
     "output_type": "stream",
     "text": [
      "100%|██████████| 170/170 [00:00<00:00, 63033.21it/s]\n"
     ]
    },
    {
     "data": {
      "text/html": [
       "<div>\n",
       "<style scoped>\n",
       "    .dataframe tbody tr th:only-of-type {\n",
       "        vertical-align: middle;\n",
       "    }\n",
       "\n",
       "    .dataframe tbody tr th {\n",
       "        vertical-align: top;\n",
       "    }\n",
       "\n",
       "    .dataframe thead th {\n",
       "        text-align: right;\n",
       "    }\n",
       "</style>\n",
       "<table border=\"1\" class=\"dataframe\">\n",
       "  <thead>\n",
       "    <tr style=\"text-align: right;\">\n",
       "      <th></th>\n",
       "      <th>SymbolA</th>\n",
       "      <th>SymbolB</th>\n",
       "    </tr>\n",
       "  </thead>\n",
       "  <tbody>\n",
       "    <tr>\n",
       "      <th>0</th>\n",
       "      <td>AGTR1</td>\n",
       "      <td>AGTR1</td>\n",
       "    </tr>\n",
       "    <tr>\n",
       "      <th>1</th>\n",
       "      <td>AGTR1</td>\n",
       "      <td>AGTR2</td>\n",
       "    </tr>\n",
       "    <tr>\n",
       "      <th>2</th>\n",
       "      <td>AGTR1</td>\n",
       "      <td>APJ</td>\n",
       "    </tr>\n",
       "    <tr>\n",
       "      <th>3</th>\n",
       "      <td>AGTR1</td>\n",
       "      <td>NMBR</td>\n",
       "    </tr>\n",
       "    <tr>\n",
       "      <th>4</th>\n",
       "      <td>AGTR1</td>\n",
       "      <td>GRPR</td>\n",
       "    </tr>\n",
       "    <tr>\n",
       "      <th>...</th>\n",
       "      <td>...</td>\n",
       "      <td>...</td>\n",
       "    </tr>\n",
       "    <tr>\n",
       "      <th>28895</th>\n",
       "      <td>OPSR</td>\n",
       "      <td>OPN4</td>\n",
       "    </tr>\n",
       "    <tr>\n",
       "      <th>28896</th>\n",
       "      <td>OPSR</td>\n",
       "      <td>OPN5</td>\n",
       "    </tr>\n",
       "    <tr>\n",
       "      <th>28897</th>\n",
       "      <td>OPSR</td>\n",
       "      <td>OPSB</td>\n",
       "    </tr>\n",
       "    <tr>\n",
       "      <th>28898</th>\n",
       "      <td>OPSR</td>\n",
       "      <td>OPSG</td>\n",
       "    </tr>\n",
       "    <tr>\n",
       "      <th>28899</th>\n",
       "      <td>OPSR</td>\n",
       "      <td>OPSR</td>\n",
       "    </tr>\n",
       "  </tbody>\n",
       "</table>\n",
       "<p>28900 rows × 2 columns</p>\n",
       "</div>"
      ],
      "text/plain": [
       "      SymbolA SymbolB\n",
       "0       AGTR1   AGTR1\n",
       "1       AGTR1   AGTR2\n",
       "2       AGTR1     APJ\n",
       "3       AGTR1    NMBR\n",
       "4       AGTR1    GRPR\n",
       "...       ...     ...\n",
       "28895    OPSR    OPN4\n",
       "28896    OPSR    OPN5\n",
       "28897    OPSR    OPSB\n",
       "28898    OPSR    OPSG\n",
       "28899    OPSR    OPSR\n",
       "\n",
       "[28900 rows x 2 columns]"
      ]
     },
     "execution_count": 5,
     "metadata": {},
     "output_type": "execute_result"
    }
   ],
   "source": [
    "GPCR_all = pd.DataFrame()\n",
    "GPCR_symbols = list(GPCR_dict.keys())\n",
    "SymbolA = []\n",
    "SymbolB = []\n",
    "\n",
    "for k1 in tqdm(GPCR_symbols):\n",
    "    for k2 in GPCR_symbols:\n",
    "        SymbolA.append(k1)\n",
    "        SymbolB.append(k2)\n",
    "        \n",
    "GPCR_all['SymbolA'] = SymbolA\n",
    "GPCR_all['SymbolB'] = SymbolB\n",
    "\n",
    "GPCR_all"
   ]
  },
  {
   "cell_type": "code",
   "execution_count": 6,
   "id": "0be10d9c-4527-4b4b-99b5-05dbc168e76f",
   "metadata": {
    "tags": []
   },
   "outputs": [],
   "source": [
    "# GPCR_symbols"
   ]
  },
  {
   "cell_type": "markdown",
   "id": "f98133d6-622b-4f27-9823-15ff2cb48b0d",
   "metadata": {},
   "source": [
    "# ComPPlete"
   ]
  },
  {
   "cell_type": "code",
   "execution_count": 7,
   "id": "967d72b8-42f4-49cb-960b-2050301aa3e1",
   "metadata": {
    "tags": []
   },
   "outputs": [
    {
     "name": "stderr",
     "output_type": "stream",
     "text": [
      "28900it [00:01, 19637.80it/s]\n"
     ]
    }
   ],
   "source": [
    "X = []\n",
    "\n",
    "    \n",
    "for index, row in tqdm(GPCR_all.iterrows()):\n",
    "    prot1 = GPCR_dict[row['SymbolA']]['protvec']\n",
    "    prot2 = GPCR_dict[row['SymbolB']]['protvec']\n",
    "    X.append(list(prot1) + list(prot2))"
   ]
  },
  {
   "cell_type": "code",
   "execution_count": 8,
   "id": "eefab71d-9b06-4d0f-8c47-45b8a9702621",
   "metadata": {
    "tags": []
   },
   "outputs": [
    {
     "name": "stdout",
     "output_type": "stream",
     "text": [
      "904/904 [==============================] - 1s 1ms/step\n",
      "904/904 [==============================] - 1s 1ms/step\n",
      "904/904 [==============================] - 1s 1ms/step\n",
      "904/904 [==============================] - 1s 1ms/step\n",
      "904/904 [==============================] - 1s 1ms/step\n"
     ]
    }
   ],
   "source": [
    "f = 5\n",
    "prediction_folds = []\n",
    "\n",
    "for j in range(f):\n",
    "\n",
    "    model = load_model('../models/compplete_02_12_2024_fold' + str(j) + '.h5')\n",
    "\n",
    "    X = np.array(X)  \n",
    "    pred = model.predict([X[:,:100],X[:,100:]])\n",
    "    prediction_folds.append([x[0] for x in pred])"
   ]
  },
  {
   "cell_type": "code",
   "execution_count": 9,
   "id": "bd8047d1-d811-418a-8d1f-6fc02b70d16b",
   "metadata": {
    "tags": []
   },
   "outputs": [],
   "source": [
    "GPCR_all = pd.DataFrame()\n",
    "\n",
    "GPCR_all['SymbolA'] = SymbolA\n",
    "GPCR_all['SymbolB'] = SymbolB\n",
    "\n",
    "GPCR_all['pred_fold0'] = prediction_folds[0]\n",
    "GPCR_all['pred_fold1'] = prediction_folds[1]\n",
    "GPCR_all['pred_fold2'] = prediction_folds[2]\n",
    "GPCR_all['pred_fold3'] = prediction_folds[3]\n",
    "GPCR_all['pred_fold4'] = prediction_folds[4]\n",
    "\n",
    "GPCR_all['average'] = GPCR_all[['pred_fold0', 'pred_fold1', 'pred_fold2', 'pred_fold3', 'pred_fold4']].mean(axis=1)\n",
    "\n",
    "GPCR_all['std'] = GPCR_all[['pred_fold0', 'pred_fold1', 'pred_fold2', 'pred_fold3', 'pred_fold4']].std(axis=1)"
   ]
  },
  {
   "cell_type": "code",
   "execution_count": 10,
   "id": "bd37ed0c-c228-44c5-9428-634d4e92b914",
   "metadata": {
    "tags": []
   },
   "outputs": [],
   "source": [
    "GPCR_all.to_csv('output/GPCRS_all_preds.csv')"
   ]
  },
  {
   "cell_type": "code",
   "execution_count": 11,
   "id": "d8345298-03c2-476e-abac-0e8f8a346a8b",
   "metadata": {
    "tags": []
   },
   "outputs": [],
   "source": [
    "GPCR_symbols_df = pd.DataFrame()\n",
    "GPCR_symbols_df['Symbols'] = GPCR_symbols\n",
    "# GPCR_symbols_df.to_csv('GPCR_list.csv')"
   ]
  },
  {
   "cell_type": "code",
   "execution_count": 12,
   "id": "cd7253f3-4c9c-4de5-9c95-9126e54e8af8",
   "metadata": {
    "tags": []
   },
   "outputs": [],
   "source": [
    "GPCR_all = GPCR_all.sort_values('average', ascending=False)"
   ]
  },
  {
   "cell_type": "code",
   "execution_count": 13,
   "id": "bbde2d7d-5d14-418b-a148-46401bf91be8",
   "metadata": {
    "tags": []
   },
   "outputs": [],
   "source": [
    "GPCR_all['pair'] = GPCR_all[['SymbolA', 'SymbolB']].apply(lambda r: '__'.join(sorted(r)), axis=1)\n",
    " \n",
    "GPCR_all = GPCR_all.drop_duplicates('pair').reset_index(drop=True)"
   ]
  },
  {
   "cell_type": "code",
   "execution_count": 14,
   "id": "2e107a7c-8202-4a15-8834-b87f05fc6ba1",
   "metadata": {
    "scrolled": true,
    "tags": []
   },
   "outputs": [],
   "source": [
    "GPCR_all_pos = GPCR_all.head(100) #GPCR_all[GPCR_all['average']>0.95]"
   ]
  },
  {
   "cell_type": "code",
   "execution_count": 15,
   "id": "2010b23c-00a8-4c59-bef4-1df0585379a0",
   "metadata": {
    "tags": []
   },
   "outputs": [
    {
     "data": {
      "text/html": [
       "<div>\n",
       "<style scoped>\n",
       "    .dataframe tbody tr th:only-of-type {\n",
       "        vertical-align: middle;\n",
       "    }\n",
       "\n",
       "    .dataframe tbody tr th {\n",
       "        vertical-align: top;\n",
       "    }\n",
       "\n",
       "    .dataframe thead th {\n",
       "        text-align: right;\n",
       "    }\n",
       "</style>\n",
       "<table border=\"1\" class=\"dataframe\">\n",
       "  <thead>\n",
       "    <tr style=\"text-align: right;\">\n",
       "      <th></th>\n",
       "      <th>SymbolA</th>\n",
       "      <th>SymbolB</th>\n",
       "      <th>pred_fold0</th>\n",
       "      <th>pred_fold1</th>\n",
       "      <th>pred_fold2</th>\n",
       "      <th>pred_fold3</th>\n",
       "      <th>pred_fold4</th>\n",
       "      <th>average</th>\n",
       "      <th>std</th>\n",
       "      <th>pair</th>\n",
       "    </tr>\n",
       "  </thead>\n",
       "  <tbody>\n",
       "    <tr>\n",
       "      <th>0</th>\n",
       "      <td>FFAR4</td>\n",
       "      <td>FFAR4</td>\n",
       "      <td>0.960627</td>\n",
       "      <td>0.966220</td>\n",
       "      <td>0.995191</td>\n",
       "      <td>0.987825</td>\n",
       "      <td>0.948460</td>\n",
       "      <td>0.971665</td>\n",
       "      <td>0.019394</td>\n",
       "      <td>FFAR4__FFAR4</td>\n",
       "    </tr>\n",
       "    <tr>\n",
       "      <th>1</th>\n",
       "      <td>OXYR</td>\n",
       "      <td>FFAR4</td>\n",
       "      <td>0.942801</td>\n",
       "      <td>0.962630</td>\n",
       "      <td>0.997534</td>\n",
       "      <td>0.984516</td>\n",
       "      <td>0.954134</td>\n",
       "      <td>0.968323</td>\n",
       "      <td>0.022364</td>\n",
       "      <td>FFAR4__OXYR</td>\n",
       "    </tr>\n",
       "    <tr>\n",
       "      <th>2</th>\n",
       "      <td>SSR2</td>\n",
       "      <td>FFAR4</td>\n",
       "      <td>0.960139</td>\n",
       "      <td>0.947267</td>\n",
       "      <td>0.982506</td>\n",
       "      <td>0.986459</td>\n",
       "      <td>0.961459</td>\n",
       "      <td>0.967566</td>\n",
       "      <td>0.016467</td>\n",
       "      <td>FFAR4__SSR2</td>\n",
       "    </tr>\n",
       "    <tr>\n",
       "      <th>3</th>\n",
       "      <td>C5AR1</td>\n",
       "      <td>FFAR4</td>\n",
       "      <td>0.951849</td>\n",
       "      <td>0.944860</td>\n",
       "      <td>0.990200</td>\n",
       "      <td>0.977768</td>\n",
       "      <td>0.960230</td>\n",
       "      <td>0.964981</td>\n",
       "      <td>0.018704</td>\n",
       "      <td>C5AR1__FFAR4</td>\n",
       "    </tr>\n",
       "    <tr>\n",
       "      <th>4</th>\n",
       "      <td>OPN3</td>\n",
       "      <td>FFAR4</td>\n",
       "      <td>0.939233</td>\n",
       "      <td>0.952138</td>\n",
       "      <td>0.976109</td>\n",
       "      <td>0.985542</td>\n",
       "      <td>0.967591</td>\n",
       "      <td>0.964122</td>\n",
       "      <td>0.018558</td>\n",
       "      <td>FFAR4__OPN3</td>\n",
       "    </tr>\n",
       "    <tr>\n",
       "      <th>...</th>\n",
       "      <td>...</td>\n",
       "      <td>...</td>\n",
       "      <td>...</td>\n",
       "      <td>...</td>\n",
       "      <td>...</td>\n",
       "      <td>...</td>\n",
       "      <td>...</td>\n",
       "      <td>...</td>\n",
       "      <td>...</td>\n",
       "      <td>...</td>\n",
       "    </tr>\n",
       "    <tr>\n",
       "      <th>95</th>\n",
       "      <td>ACKR4</td>\n",
       "      <td>AGTR2</td>\n",
       "      <td>0.935349</td>\n",
       "      <td>0.902637</td>\n",
       "      <td>0.956175</td>\n",
       "      <td>0.953517</td>\n",
       "      <td>0.929608</td>\n",
       "      <td>0.935457</td>\n",
       "      <td>0.021603</td>\n",
       "      <td>ACKR4__AGTR2</td>\n",
       "    </tr>\n",
       "    <tr>\n",
       "      <th>96</th>\n",
       "      <td>PE2R3</td>\n",
       "      <td>LPAR4</td>\n",
       "      <td>0.906537</td>\n",
       "      <td>0.947831</td>\n",
       "      <td>0.978812</td>\n",
       "      <td>0.949676</td>\n",
       "      <td>0.894095</td>\n",
       "      <td>0.935390</td>\n",
       "      <td>0.034576</td>\n",
       "      <td>LPAR4__PE2R3</td>\n",
       "    </tr>\n",
       "    <tr>\n",
       "      <th>97</th>\n",
       "      <td>BKRB1</td>\n",
       "      <td>AGTR2</td>\n",
       "      <td>0.947135</td>\n",
       "      <td>0.857689</td>\n",
       "      <td>0.975035</td>\n",
       "      <td>0.964008</td>\n",
       "      <td>0.932846</td>\n",
       "      <td>0.935343</td>\n",
       "      <td>0.046294</td>\n",
       "      <td>AGTR2__BKRB1</td>\n",
       "    </tr>\n",
       "    <tr>\n",
       "      <th>98</th>\n",
       "      <td>C5AR1</td>\n",
       "      <td>CLTR2</td>\n",
       "      <td>0.919634</td>\n",
       "      <td>0.887359</td>\n",
       "      <td>0.989572</td>\n",
       "      <td>0.951468</td>\n",
       "      <td>0.928123</td>\n",
       "      <td>0.935231</td>\n",
       "      <td>0.038086</td>\n",
       "      <td>C5AR1__CLTR2</td>\n",
       "    </tr>\n",
       "    <tr>\n",
       "      <th>99</th>\n",
       "      <td>CCR7</td>\n",
       "      <td>FFAR4</td>\n",
       "      <td>0.905224</td>\n",
       "      <td>0.927490</td>\n",
       "      <td>0.977638</td>\n",
       "      <td>0.958604</td>\n",
       "      <td>0.906714</td>\n",
       "      <td>0.935134</td>\n",
       "      <td>0.032087</td>\n",
       "      <td>CCR7__FFAR4</td>\n",
       "    </tr>\n",
       "  </tbody>\n",
       "</table>\n",
       "<p>100 rows × 10 columns</p>\n",
       "</div>"
      ],
      "text/plain": [
       "   SymbolA SymbolB  pred_fold0  pred_fold1  pred_fold2  pred_fold3  \\\n",
       "0    FFAR4   FFAR4    0.960627    0.966220    0.995191    0.987825   \n",
       "1     OXYR   FFAR4    0.942801    0.962630    0.997534    0.984516   \n",
       "2     SSR2   FFAR4    0.960139    0.947267    0.982506    0.986459   \n",
       "3    C5AR1   FFAR4    0.951849    0.944860    0.990200    0.977768   \n",
       "4     OPN3   FFAR4    0.939233    0.952138    0.976109    0.985542   \n",
       "..     ...     ...         ...         ...         ...         ...   \n",
       "95   ACKR4   AGTR2    0.935349    0.902637    0.956175    0.953517   \n",
       "96   PE2R3   LPAR4    0.906537    0.947831    0.978812    0.949676   \n",
       "97   BKRB1   AGTR2    0.947135    0.857689    0.975035    0.964008   \n",
       "98   C5AR1   CLTR2    0.919634    0.887359    0.989572    0.951468   \n",
       "99    CCR7   FFAR4    0.905224    0.927490    0.977638    0.958604   \n",
       "\n",
       "    pred_fold4   average       std          pair  \n",
       "0     0.948460  0.971665  0.019394  FFAR4__FFAR4  \n",
       "1     0.954134  0.968323  0.022364   FFAR4__OXYR  \n",
       "2     0.961459  0.967566  0.016467   FFAR4__SSR2  \n",
       "3     0.960230  0.964981  0.018704  C5AR1__FFAR4  \n",
       "4     0.967591  0.964122  0.018558   FFAR4__OPN3  \n",
       "..         ...       ...       ...           ...  \n",
       "95    0.929608  0.935457  0.021603  ACKR4__AGTR2  \n",
       "96    0.894095  0.935390  0.034576  LPAR4__PE2R3  \n",
       "97    0.932846  0.935343  0.046294  AGTR2__BKRB1  \n",
       "98    0.928123  0.935231  0.038086  C5AR1__CLTR2  \n",
       "99    0.906714  0.935134  0.032087   CCR7__FFAR4  \n",
       "\n",
       "[100 rows x 10 columns]"
      ]
     },
     "execution_count": 15,
     "metadata": {},
     "output_type": "execute_result"
    }
   ],
   "source": [
    "GPCR_all.head(100)"
   ]
  },
  {
   "cell_type": "code",
   "execution_count": 16,
   "id": "66bea8b6-aae4-49f6-ac13-06d4c99533b0",
   "metadata": {
    "tags": []
   },
   "outputs": [
    {
     "data": {
      "text/html": [
       "<div>\n",
       "<style scoped>\n",
       "    .dataframe tbody tr th:only-of-type {\n",
       "        vertical-align: middle;\n",
       "    }\n",
       "\n",
       "    .dataframe tbody tr th {\n",
       "        vertical-align: top;\n",
       "    }\n",
       "\n",
       "    .dataframe thead th {\n",
       "        text-align: right;\n",
       "    }\n",
       "</style>\n",
       "<table border=\"1\" class=\"dataframe\">\n",
       "  <thead>\n",
       "    <tr style=\"text-align: right;\">\n",
       "      <th></th>\n",
       "      <th>SymbolA</th>\n",
       "      <th>SymbolB</th>\n",
       "      <th>pred_fold0</th>\n",
       "      <th>pred_fold1</th>\n",
       "      <th>pred_fold2</th>\n",
       "      <th>pred_fold3</th>\n",
       "      <th>pred_fold4</th>\n",
       "      <th>average</th>\n",
       "      <th>std</th>\n",
       "      <th>pair</th>\n",
       "    </tr>\n",
       "  </thead>\n",
       "  <tbody>\n",
       "    <tr>\n",
       "      <th>0</th>\n",
       "      <td>FFAR4</td>\n",
       "      <td>FFAR4</td>\n",
       "      <td>0.960627</td>\n",
       "      <td>0.966220</td>\n",
       "      <td>0.995191</td>\n",
       "      <td>0.987825</td>\n",
       "      <td>0.948460</td>\n",
       "      <td>0.971665</td>\n",
       "      <td>0.019394</td>\n",
       "      <td>FFAR4__FFAR4</td>\n",
       "    </tr>\n",
       "    <tr>\n",
       "      <th>5</th>\n",
       "      <td>OXYR</td>\n",
       "      <td>OXYR</td>\n",
       "      <td>0.945144</td>\n",
       "      <td>0.935741</td>\n",
       "      <td>0.997672</td>\n",
       "      <td>0.979071</td>\n",
       "      <td>0.959727</td>\n",
       "      <td>0.963471</td>\n",
       "      <td>0.025159</td>\n",
       "      <td>OXYR__OXYR</td>\n",
       "    </tr>\n",
       "    <tr>\n",
       "      <th>6</th>\n",
       "      <td>SSR2</td>\n",
       "      <td>SSR2</td>\n",
       "      <td>0.949583</td>\n",
       "      <td>0.939674</td>\n",
       "      <td>0.983410</td>\n",
       "      <td>0.980529</td>\n",
       "      <td>0.959975</td>\n",
       "      <td>0.962634</td>\n",
       "      <td>0.019082</td>\n",
       "      <td>SSR2__SSR2</td>\n",
       "    </tr>\n",
       "    <tr>\n",
       "      <th>37</th>\n",
       "      <td>MTR1A</td>\n",
       "      <td>MTR1A</td>\n",
       "      <td>0.920105</td>\n",
       "      <td>0.899957</td>\n",
       "      <td>0.993760</td>\n",
       "      <td>0.979639</td>\n",
       "      <td>0.955572</td>\n",
       "      <td>0.949807</td>\n",
       "      <td>0.039441</td>\n",
       "      <td>MTR1A__MTR1A</td>\n",
       "    </tr>\n",
       "    <tr>\n",
       "      <th>45</th>\n",
       "      <td>C5AR1</td>\n",
       "      <td>C5AR1</td>\n",
       "      <td>0.941623</td>\n",
       "      <td>0.891765</td>\n",
       "      <td>0.982051</td>\n",
       "      <td>0.954168</td>\n",
       "      <td>0.965280</td>\n",
       "      <td>0.946977</td>\n",
       "      <td>0.034256</td>\n",
       "      <td>C5AR1__C5AR1</td>\n",
       "    </tr>\n",
       "    <tr>\n",
       "      <th>52</th>\n",
       "      <td>MTLR</td>\n",
       "      <td>MTLR</td>\n",
       "      <td>0.947540</td>\n",
       "      <td>0.968074</td>\n",
       "      <td>0.989940</td>\n",
       "      <td>0.978055</td>\n",
       "      <td>0.841085</td>\n",
       "      <td>0.944939</td>\n",
       "      <td>0.060103</td>\n",
       "      <td>MTLR__MTLR</td>\n",
       "    </tr>\n",
       "    <tr>\n",
       "      <th>78</th>\n",
       "      <td>BKRB1</td>\n",
       "      <td>BKRB1</td>\n",
       "      <td>0.944529</td>\n",
       "      <td>0.870761</td>\n",
       "      <td>0.994476</td>\n",
       "      <td>0.947441</td>\n",
       "      <td>0.949820</td>\n",
       "      <td>0.941405</td>\n",
       "      <td>0.044509</td>\n",
       "      <td>BKRB1__BKRB1</td>\n",
       "    </tr>\n",
       "    <tr>\n",
       "      <th>87</th>\n",
       "      <td>P2RY1</td>\n",
       "      <td>P2RY1</td>\n",
       "      <td>0.933399</td>\n",
       "      <td>0.899184</td>\n",
       "      <td>0.996594</td>\n",
       "      <td>0.957674</td>\n",
       "      <td>0.903158</td>\n",
       "      <td>0.938002</td>\n",
       "      <td>0.040504</td>\n",
       "      <td>P2RY1__P2RY1</td>\n",
       "    </tr>\n",
       "  </tbody>\n",
       "</table>\n",
       "</div>"
      ],
      "text/plain": [
       "   SymbolA SymbolB  pred_fold0  pred_fold1  pred_fold2  pred_fold3  \\\n",
       "0    FFAR4   FFAR4    0.960627    0.966220    0.995191    0.987825   \n",
       "5     OXYR    OXYR    0.945144    0.935741    0.997672    0.979071   \n",
       "6     SSR2    SSR2    0.949583    0.939674    0.983410    0.980529   \n",
       "37   MTR1A   MTR1A    0.920105    0.899957    0.993760    0.979639   \n",
       "45   C5AR1   C5AR1    0.941623    0.891765    0.982051    0.954168   \n",
       "52    MTLR    MTLR    0.947540    0.968074    0.989940    0.978055   \n",
       "78   BKRB1   BKRB1    0.944529    0.870761    0.994476    0.947441   \n",
       "87   P2RY1   P2RY1    0.933399    0.899184    0.996594    0.957674   \n",
       "\n",
       "    pred_fold4   average       std          pair  \n",
       "0     0.948460  0.971665  0.019394  FFAR4__FFAR4  \n",
       "5     0.959727  0.963471  0.025159    OXYR__OXYR  \n",
       "6     0.959975  0.962634  0.019082    SSR2__SSR2  \n",
       "37    0.955572  0.949807  0.039441  MTR1A__MTR1A  \n",
       "45    0.965280  0.946977  0.034256  C5AR1__C5AR1  \n",
       "52    0.841085  0.944939  0.060103    MTLR__MTLR  \n",
       "78    0.949820  0.941405  0.044509  BKRB1__BKRB1  \n",
       "87    0.903158  0.938002  0.040504  P2RY1__P2RY1  "
      ]
     },
     "execution_count": 16,
     "metadata": {},
     "output_type": "execute_result"
    }
   ],
   "source": [
    "GPCR_all_pos[GPCR_all_pos['SymbolA']==GPCR_all_pos['SymbolB']]"
   ]
  },
  {
   "cell_type": "code",
   "execution_count": 17,
   "id": "57dec5f1-1a84-4630-9540-b2b7333e279d",
   "metadata": {
    "tags": []
   },
   "outputs": [],
   "source": [
    "G = nx.Graph()"
   ]
  },
  {
   "cell_type": "code",
   "execution_count": 18,
   "id": "13de681e-d9a2-4f48-802d-ede5e4747b04",
   "metadata": {
    "tags": []
   },
   "outputs": [],
   "source": [
    "G.add_edges_from(zip(GPCR_all_pos['SymbolA'],GPCR_all_pos['SymbolB']))"
   ]
  },
  {
   "cell_type": "code",
   "execution_count": 19,
   "id": "aa31acfe-0ecb-4f6a-b431-c71171b70b52",
   "metadata": {
    "tags": []
   },
   "outputs": [
    {
     "data": {
      "text/plain": [
       "28"
      ]
     },
     "execution_count": 19,
     "metadata": {},
     "output_type": "execute_result"
    }
   ],
   "source": [
    "G.number_of_nodes()"
   ]
  },
  {
   "cell_type": "code",
   "execution_count": 20,
   "id": "99f89fa1-cbff-4ac0-a90b-267e79858680",
   "metadata": {
    "tags": []
   },
   "outputs": [
    {
     "data": {
      "text/plain": [
       "100"
      ]
     },
     "execution_count": 20,
     "metadata": {},
     "output_type": "execute_result"
    }
   ],
   "source": [
    "G.number_of_edges()"
   ]
  },
  {
   "cell_type": "code",
   "execution_count": 21,
   "id": "591f9a8c-b14e-4408-8868-bc98d3a2ae01",
   "metadata": {
    "tags": []
   },
   "outputs": [
    {
     "data": {
      "text/plain": [
       "Text(0, 0.5, 'Number of Interactions')"
      ]
     },
     "execution_count": 21,
     "metadata": {},
     "output_type": "execute_result"
    },
    {
     "data": {
      "image/png": "[encoded data removed]",
      "text/plain": [
       "<Figure size 432x288 with 1 Axes>"
      ]
     },
     "metadata": {
      "needs_background": "light"
     },
     "output_type": "display_data"
    }
   ],
   "source": [
    "plt.hist(GPCR_all['average'])\n",
    "plt.xlabel('Average ComPPlete Prediction')\n",
    "plt.ylabel('Number of Interactions')"
   ]
  },
  {
   "cell_type": "code",
   "execution_count": 22,
   "id": "584c30ad-a5b2-47ff-8114-ae6f0bff9969",
   "metadata": {
    "tags": []
   },
   "outputs": [
    {
     "data": {
      "text/plain": [
       "Text(0, 0.5, 'Number of Interactions')"
      ]
     },
     "execution_count": 22,
     "metadata": {},
     "output_type": "execute_result"
    },
    {
     "data": {
      "image/png": "[encoded data removed]",
      "text/plain": [
       "<Figure size 432x288 with 1 Axes>"
      ]
     },
     "metadata": {
      "needs_background": "light"
     },
     "output_type": "display_data"
    }
   ],
   "source": [
    "plt.hist(GPCR_all['std'])\n",
    "plt.xlabel('STD of ComPPlete Prediction')\n",
    "plt.ylabel('Number of Interactions')"
   ]
  },
  {
   "cell_type": "code",
   "execution_count": 23,
   "id": "56c22234-148a-495e-b563-28ff1c14bb99",
   "metadata": {
    "tags": []
   },
   "outputs": [
    {
     "data": {
      "text/plain": [
       "14535"
      ]
     },
     "execution_count": 23,
     "metadata": {},
     "output_type": "execute_result"
    }
   ],
   "source": [
    "len(GPCR_all)"
   ]
  },
  {
   "cell_type": "code",
   "execution_count": 24,
   "id": "5b5c1c32-cd92-4a44-93e0-3298d1f979be",
   "metadata": {
    "tags": []
   },
   "outputs": [
    {
     "data": {
      "text/plain": [
       "9449"
      ]
     },
     "execution_count": 24,
     "metadata": {},
     "output_type": "execute_result"
    }
   ],
   "source": [
    "len(GPCR_all[GPCR_all['average']>0.5])"
   ]
  },
  {
   "cell_type": "code",
   "execution_count": 25,
   "id": "18de663a-9f5f-4f43-b6d6-455d9cf5656c",
   "metadata": {
    "tags": []
   },
   "outputs": [
    {
     "data": {
      "text/plain": [
       "392"
      ]
     },
     "execution_count": 25,
     "metadata": {},
     "output_type": "execute_result"
    }
   ],
   "source": [
    "len(GPCR_all[GPCR_all['average']>0.9])"
   ]
  },
  {
   "cell_type": "code",
   "execution_count": 26,
   "id": "0cacaaa2-1872-4d95-81dd-5460c38fec1b",
   "metadata": {
    "tags": []
   },
   "outputs": [
    {
     "data": {
      "text/plain": [
       "37"
      ]
     },
     "execution_count": 26,
     "metadata": {},
     "output_type": "execute_result"
    }
   ],
   "source": [
    "len(GPCR_all[GPCR_all['average']>0.95])"
   ]
  },
  {
   "cell_type": "code",
   "execution_count": 27,
   "id": "a3056b57-8d03-4bb2-ade9-3415873f00e2",
   "metadata": {
    "tags": []
   },
   "outputs": [],
   "source": [
    "# GPCR_all_pos.to_csv('GPCR_Network_ComPPlete_02_26_2024.csv')"
   ]
  },
  {
   "cell_type": "code",
   "execution_count": 28,
   "id": "84bcd560-ce47-444b-abc2-5415f2e62460",
   "metadata": {
    "tags": []
   },
   "outputs": [
    {
     "data": {
      "text/plain": [
       "Text(0, 0.5, 'STD of ComPPlete Prediction')"
      ]
     },
     "execution_count": 28,
     "metadata": {},
     "output_type": "execute_result"
    },
    {
     "data": {
      "image/png": "[encoded data removed]",
      "text/plain": [
       "<Figure size 432x288 with 1 Axes>"
      ]
     },
     "metadata": {
      "needs_background": "light"
     },
     "output_type": "display_data"
    }
   ],
   "source": [
    "plt.scatter(GPCR_all['average'],GPCR_all['std'])\n",
    "plt.xlabel('ComPPlete Average Prediction')\n",
    "plt.ylabel('STD of ComPPlete Prediction')"
   ]
  },
  {
   "cell_type": "code",
   "execution_count": null,
   "id": "e9d4f18b-89d6-401f-bc4c-32e71d811321",
   "metadata": {},
   "outputs": [],
   "source": []
  }
 ],
 "metadata": {
  "kernelspec": {
   "display_name": "Python 3",
   "language": "python",
   "name": "python3"
  },
  "language_info": {
   "codemirror_mode": {
    "name": "ipython",
    "version": 3
   },
   "file_extension": ".py",
   "mimetype": "text/x-python",
   "name": "python",
   "nbconvert_exporter": "python",
   "pygments_lexer": "ipython3",
   "version": "3.9.17"
  }
 },
 "nbformat": 4,
 "nbformat_minor": 5
}
